{
  "nbformat": 4,
  "nbformat_minor": 0,
  "metadata": {
    "colab": {
      "provenance": [],
      "authorship_tag": "ABX9TyNy9M/ACrmynOWQiT0sUtGC",
      "include_colab_link": true
    },
    "kernelspec": {
      "name": "python3",
      "display_name": "Python 3"
    },
    "language_info": {
      "name": "python"
    }
  },
  "cells": [
    {
      "cell_type": "markdown",
      "metadata": {
        "id": "view-in-github",
        "colab_type": "text"
      },
      "source": [
        "<a href=\"https://colab.research.google.com/github/Mahalia-ym/entregaTFT/blob/main/python/K_folder.ipynb\" target=\"_parent\"><img src=\"https://colab.research.google.com/assets/colab-badge.svg\" alt=\"Open In Colab\"/></a>"
      ]
    },
    {
      "cell_type": "markdown",
      "source": [
        "Se importan las librerías necesarias para la red neuronal"
      ],
      "metadata": {
        "id": "Kg9Y_KFNTEO1"
      }
    },
    {
      "cell_type": "code",
      "execution_count": null,
      "metadata": {
        "id": "GPxc4q1Ku1SX"
      },
      "outputs": [],
      "source": [
        "import tensorflow as tf\n",
        "import numpy as np\n",
        "import pandas as pd"
      ]
    },
    {
      "cell_type": "code",
      "source": [
        "from sklearn.model_selection import train_test_split\n",
        "from tensorflow.keras.models import Sequential\n",
        "from tensorflow.keras.layers import Dense\n",
        "from sklearn.metrics import r2_score\n",
        "from sklearn.metrics import mean_squared_error\n",
        "from sklearn.model_selection import KFold"
      ],
      "metadata": {
        "id": "-4DR3oqjyeKR"
      },
      "execution_count": null,
      "outputs": []
    },
    {
      "cell_type": "markdown",
      "source": [
        "Se da acceso al drive donde se encuentran los datos de los constructos que vamos a utilizar como input para la red neuronal"
      ],
      "metadata": {
        "id": "tfHZgxPVTUdb"
      }
    },
    {
      "cell_type": "code",
      "source": [
        "from google.colab import drive\n",
        "drive.mount('/content/drive')"
      ],
      "metadata": {
        "colab": {
          "base_uri": "https://localhost:8080/"
        },
        "id": "OGJhK6QVx4Qz",
        "outputId": "c19dde76-a06f-408a-f87b-93c55b776cc7"
      },
      "execution_count": null,
      "outputs": [
        {
          "output_type": "stream",
          "name": "stdout",
          "text": [
            "Mounted at /content/drive\n"
          ]
        }
      ]
    },
    {
      "cell_type": "markdown",
      "source": [
        "Aquí se cargan los valores de los constructos"
      ],
      "metadata": {
        "id": "YRLkawp_yyYf"
      }
    },
    {
      "cell_type": "code",
      "source": [
        "datosCompletos = pd.read_csv('/content/drive/My Drive/2º Semestre/TFT Nuevo/Red Neuronal/constructScores.csv', encoding='utf-8', sep=',', index_col=0)\n",
        "datosCompletos.sample(10)\n"
      ],
      "metadata": {
        "colab": {
          "base_uri": "https://localhost:8080/",
          "height": 363
        },
        "id": "WHSGvzSlx8P1",
        "outputId": "75247287-60e3-45c7-8ccc-14dcbbda2d8f"
      },
      "execution_count": null,
      "outputs": [
        {
          "output_type": "execute_result",
          "data": {
            "text/plain": [
              "     Mindfulness    Satisf  Performance   Abandon\n",
              "147     0.528684 -0.203327     1.105604 -0.266153\n",
              "111     0.119059  0.282395    -0.952978 -1.405734\n",
              "145    -0.244285  0.297158     0.316754  0.645001\n",
              "161     1.124552  1.527304     1.280463  1.384622\n",
              "87      0.323871  0.177505    -0.492484 -0.088135\n",
              "132     1.040154  2.036459     0.798609 -1.405734\n",
              "68     -1.573742  0.186176    -0.952978 -0.501475\n",
              "153    -0.449097 -0.242008    -0.799480 -0.501475\n",
              "31      0.122230  0.440515    -1.127836 -0.294805\n",
              "24     -0.489036 -0.772308    -0.317626  1.086994"
            ],
            "text/html": [
              "\n",
              "  <div id=\"df-0c0af697-71b4-42cf-ba3f-7eb953ca400e\">\n",
              "    <div class=\"colab-df-container\">\n",
              "      <div>\n",
              "<style scoped>\n",
              "    .dataframe tbody tr th:only-of-type {\n",
              "        vertical-align: middle;\n",
              "    }\n",
              "\n",
              "    .dataframe tbody tr th {\n",
              "        vertical-align: top;\n",
              "    }\n",
              "\n",
              "    .dataframe thead th {\n",
              "        text-align: right;\n",
              "    }\n",
              "</style>\n",
              "<table border=\"1\" class=\"dataframe\">\n",
              "  <thead>\n",
              "    <tr style=\"text-align: right;\">\n",
              "      <th></th>\n",
              "      <th>Mindfulness</th>\n",
              "      <th>Satisf</th>\n",
              "      <th>Performance</th>\n",
              "      <th>Abandon</th>\n",
              "    </tr>\n",
              "  </thead>\n",
              "  <tbody>\n",
              "    <tr>\n",
              "      <th>147</th>\n",
              "      <td>0.528684</td>\n",
              "      <td>-0.203327</td>\n",
              "      <td>1.105604</td>\n",
              "      <td>-0.266153</td>\n",
              "    </tr>\n",
              "    <tr>\n",
              "      <th>111</th>\n",
              "      <td>0.119059</td>\n",
              "      <td>0.282395</td>\n",
              "      <td>-0.952978</td>\n",
              "      <td>-1.405734</td>\n",
              "    </tr>\n",
              "    <tr>\n",
              "      <th>145</th>\n",
              "      <td>-0.244285</td>\n",
              "      <td>0.297158</td>\n",
              "      <td>0.316754</td>\n",
              "      <td>0.645001</td>\n",
              "    </tr>\n",
              "    <tr>\n",
              "      <th>161</th>\n",
              "      <td>1.124552</td>\n",
              "      <td>1.527304</td>\n",
              "      <td>1.280463</td>\n",
              "      <td>1.384622</td>\n",
              "    </tr>\n",
              "    <tr>\n",
              "      <th>87</th>\n",
              "      <td>0.323871</td>\n",
              "      <td>0.177505</td>\n",
              "      <td>-0.492484</td>\n",
              "      <td>-0.088135</td>\n",
              "    </tr>\n",
              "    <tr>\n",
              "      <th>132</th>\n",
              "      <td>1.040154</td>\n",
              "      <td>2.036459</td>\n",
              "      <td>0.798609</td>\n",
              "      <td>-1.405734</td>\n",
              "    </tr>\n",
              "    <tr>\n",
              "      <th>68</th>\n",
              "      <td>-1.573742</td>\n",
              "      <td>0.186176</td>\n",
              "      <td>-0.952978</td>\n",
              "      <td>-0.501475</td>\n",
              "    </tr>\n",
              "    <tr>\n",
              "      <th>153</th>\n",
              "      <td>-0.449097</td>\n",
              "      <td>-0.242008</td>\n",
              "      <td>-0.799480</td>\n",
              "      <td>-0.501475</td>\n",
              "    </tr>\n",
              "    <tr>\n",
              "      <th>31</th>\n",
              "      <td>0.122230</td>\n",
              "      <td>0.440515</td>\n",
              "      <td>-1.127836</td>\n",
              "      <td>-0.294805</td>\n",
              "    </tr>\n",
              "    <tr>\n",
              "      <th>24</th>\n",
              "      <td>-0.489036</td>\n",
              "      <td>-0.772308</td>\n",
              "      <td>-0.317626</td>\n",
              "      <td>1.086994</td>\n",
              "    </tr>\n",
              "  </tbody>\n",
              "</table>\n",
              "</div>\n",
              "      <button class=\"colab-df-convert\" onclick=\"convertToInteractive('df-0c0af697-71b4-42cf-ba3f-7eb953ca400e')\"\n",
              "              title=\"Convert this dataframe to an interactive table.\"\n",
              "              style=\"display:none;\">\n",
              "        \n",
              "  <svg xmlns=\"http://www.w3.org/2000/svg\" height=\"24px\"viewBox=\"0 0 24 24\"\n",
              "       width=\"24px\">\n",
              "    <path d=\"M0 0h24v24H0V0z\" fill=\"none\"/>\n",
              "    <path d=\"M18.56 5.44l.94 2.06.94-2.06 2.06-.94-2.06-.94-.94-2.06-.94 2.06-2.06.94zm-11 1L8.5 8.5l.94-2.06 2.06-.94-2.06-.94L8.5 2.5l-.94 2.06-2.06.94zm10 10l.94 2.06.94-2.06 2.06-.94-2.06-.94-.94-2.06-.94 2.06-2.06.94z\"/><path d=\"M17.41 7.96l-1.37-1.37c-.4-.4-.92-.59-1.43-.59-.52 0-1.04.2-1.43.59L10.3 9.45l-7.72 7.72c-.78.78-.78 2.05 0 2.83L4 21.41c.39.39.9.59 1.41.59.51 0 1.02-.2 1.41-.59l7.78-7.78 2.81-2.81c.8-.78.8-2.07 0-2.86zM5.41 20L4 18.59l7.72-7.72 1.47 1.35L5.41 20z\"/>\n",
              "  </svg>\n",
              "      </button>\n",
              "      \n",
              "  <style>\n",
              "    .colab-df-container {\n",
              "      display:flex;\n",
              "      flex-wrap:wrap;\n",
              "      gap: 12px;\n",
              "    }\n",
              "\n",
              "    .colab-df-convert {\n",
              "      background-color: #E8F0FE;\n",
              "      border: none;\n",
              "      border-radius: 50%;\n",
              "      cursor: pointer;\n",
              "      display: none;\n",
              "      fill: #1967D2;\n",
              "      height: 32px;\n",
              "      padding: 0 0 0 0;\n",
              "      width: 32px;\n",
              "    }\n",
              "\n",
              "    .colab-df-convert:hover {\n",
              "      background-color: #E2EBFA;\n",
              "      box-shadow: 0px 1px 2px rgba(60, 64, 67, 0.3), 0px 1px 3px 1px rgba(60, 64, 67, 0.15);\n",
              "      fill: #174EA6;\n",
              "    }\n",
              "\n",
              "    [theme=dark] .colab-df-convert {\n",
              "      background-color: #3B4455;\n",
              "      fill: #D2E3FC;\n",
              "    }\n",
              "\n",
              "    [theme=dark] .colab-df-convert:hover {\n",
              "      background-color: #434B5C;\n",
              "      box-shadow: 0px 1px 3px 1px rgba(0, 0, 0, 0.15);\n",
              "      filter: drop-shadow(0px 1px 2px rgba(0, 0, 0, 0.3));\n",
              "      fill: #FFFFFF;\n",
              "    }\n",
              "  </style>\n",
              "\n",
              "      <script>\n",
              "        const buttonEl =\n",
              "          document.querySelector('#df-0c0af697-71b4-42cf-ba3f-7eb953ca400e button.colab-df-convert');\n",
              "        buttonEl.style.display =\n",
              "          google.colab.kernel.accessAllowed ? 'block' : 'none';\n",
              "\n",
              "        async function convertToInteractive(key) {\n",
              "          const element = document.querySelector('#df-0c0af697-71b4-42cf-ba3f-7eb953ca400e');\n",
              "          const dataTable =\n",
              "            await google.colab.kernel.invokeFunction('convertToInteractive',\n",
              "                                                     [key], {});\n",
              "          if (!dataTable) return;\n",
              "\n",
              "          const docLinkHtml = 'Like what you see? Visit the ' +\n",
              "            '<a target=\"_blank\" href=https://colab.research.google.com/notebooks/data_table.ipynb>data table notebook</a>'\n",
              "            + ' to learn more about interactive tables.';\n",
              "          element.innerHTML = '';\n",
              "          dataTable['output_type'] = 'display_data';\n",
              "          await google.colab.output.renderOutput(dataTable, element);\n",
              "          const docLink = document.createElement('div');\n",
              "          docLink.innerHTML = docLinkHtml;\n",
              "          element.appendChild(docLink);\n",
              "        }\n",
              "      </script>\n",
              "    </div>\n",
              "  </div>\n",
              "  "
            ]
          },
          "metadata": {},
          "execution_count": 4
        }
      ]
    },
    {
      "cell_type": "markdown",
      "source": [
        "Establecemos la mejor estructura neuronal del anterior programa"
      ],
      "metadata": {
        "id": "uVeTh6Dw-4dm"
      }
    },
    {
      "cell_type": "code",
      "source": [
        "modelo=Sequential()\n",
        "#Capa entrada\n",
        "modelo.add(Dense(3, activation='relu', input_shape=(3,)))\n",
        "#intermedias\n",
        "modelo.add(Dense(8, activation='relu'))\n",
        "modelo.add(Dense(3, activation='relu'))\n",
        "#salida\n",
        "modelo.add(Dense(1, activation='linear'))"
      ],
      "metadata": {
        "id": "gQYugs5azDJ4"
      },
      "execution_count": null,
      "outputs": []
    },
    {
      "cell_type": "code",
      "source": [
        "modelo.summary()"
      ],
      "metadata": {
        "colab": {
          "base_uri": "https://localhost:8080/"
        },
        "id": "JypU16YcEYEX",
        "outputId": "e0f0f9bd-7dea-4f70-d825-3b7fac41c62f"
      },
      "execution_count": null,
      "outputs": [
        {
          "output_type": "stream",
          "name": "stdout",
          "text": [
            "Model: \"sequential\"\n",
            "_________________________________________________________________\n",
            " Layer (type)                Output Shape              Param #   \n",
            "=================================================================\n",
            " dense (Dense)               (None, 3)                 12        \n",
            "                                                                 \n",
            " dense_1 (Dense)             (None, 8)                 32        \n",
            "                                                                 \n",
            " dense_2 (Dense)             (None, 3)                 27        \n",
            "                                                                 \n",
            " dense_3 (Dense)             (None, 1)                 4         \n",
            "                                                                 \n",
            "=================================================================\n",
            "Total params: 75\n",
            "Trainable params: 75\n",
            "Non-trainable params: 0\n",
            "_________________________________________________________________\n"
          ]
        }
      ]
    },
    {
      "cell_type": "markdown",
      "source": [
        "Establecemos dos variables las cuales sacarán los valores RMSE y R^2 de cada iteración según se indica en el KFold. Se dividirán en datos de entreno y prueba según la variable de salida (Abandon) o las variables de entrada (Mindfulness, Job Satisfaction y Performance)"
      ],
      "metadata": {
        "id": "NDmBkPq8UZuO"
      }
    },
    {
      "cell_type": "code",
      "source": [
        "precision = []\n",
        "precision2 = []\n",
        "calculate_kf = KFold(n_splits=9, shuffle=False)\n",
        "optimizador=tf.keras.optimizers.Adam(0.01)\n",
        "modelo.compile(optimizer=optimizador, loss='mean_squared_error')\n",
        "resultado= []\n",
        "#Vamos a dividir los valores del kf\n",
        "for valEntreno, valPrueba in calculate_kf.split(datosCompletos):\n",
        "  entrenoX = datosCompletos.iloc[valEntreno].loc[:, [\"Mindfulness\", \"Satisf\", \"Performance\"]]\n",
        "  pruebaX = datosCompletos.iloc[valPrueba].loc[:, [\"Mindfulness\", \"Satisf\", \"Performance\"]]\n",
        "  entrenoY = datosCompletos.iloc[valEntreno].loc[:, [\"Abandon\"]]\n",
        "  pruebaY = datosCompletos.iloc[valPrueba].loc[:, [\"Abandon\"]]\n",
        "  modelo.fit(entrenoX, entrenoY, epochs=150, batch_size=100, verbose=0)\n",
        "  pred_y = modelo.predict(pruebaX)\n",
        "  #resultado = pred_y\n",
        "  #print(\"mse\")\n",
        "  precision.append(mean_squared_error(pruebaY, pred_y, squared=False))\n",
        "  #print(precision)\n",
        "\n",
        "  #print(\"*********************\")\n",
        "  #print(\"R^2\")\n",
        "  precision2.append(r2_score(pruebaY, pred_y))\n",
        "  #print(precision2)\n",
        "\n",
        "print(\"mse\")\n",
        "print(precision)\n",
        "print(\"***********************\")\n",
        "print(\"R^2\")\n",
        "print(precision2)\n"
      ],
      "metadata": {
        "colab": {
          "base_uri": "https://localhost:8080/"
        },
        "id": "B_9WpLapE4Nh",
        "outputId": "3fff2d66-e133-4aab-ab79-3fc4ca3e98e4"
      },
      "execution_count": null,
      "outputs": [
        {
          "output_type": "stream",
          "name": "stdout",
          "text": [
            "1/1 [==============================] - 0s 68ms/step\n",
            "1/1 [==============================] - 0s 21ms/step\n",
            "1/1 [==============================] - 0s 21ms/step\n",
            "1/1 [==============================] - 0s 34ms/step\n",
            "1/1 [==============================] - 0s 38ms/step\n",
            "1/1 [==============================] - 0s 34ms/step\n",
            "1/1 [==============================] - 0s 21ms/step\n",
            "1/1 [==============================] - 0s 23ms/step\n",
            "1/1 [==============================] - 0s 21ms/step\n",
            "mse\n",
            "[0.9442802219941956, 0.7402402987025967, 0.6130522148020157, 0.5046869710057655, 0.7092411418818237, 0.6868224814894647, 0.6134961477656179, 0.98893259896776, 0.7124950044293404]\n",
            "***********************\n",
            "R^2\n",
            "[-0.07902267037340249, 0.37006428504056466, 0.5575968678891023, 0.6274757117837816, 0.6402355435773883, 0.6087561796197871, 0.5560201172640222, 0.07576629109243771, 0.3435329870217242]\n"
          ]
        }
      ]
    },
    {
      "cell_type": "markdown",
      "source": [
        "Aquí tratamos de calcular el resultado promedio de las iteraciones anteriores según los RMSE y los R^2"
      ],
      "metadata": {
        "id": "O2arGCNmU5uv"
      }
    },
    {
      "cell_type": "code",
      "source": [
        "mse = 0\n",
        "for i in precision:\n",
        "  mse += i\n",
        "print(\"Media mse:\")\n",
        "print(mse/9)\n",
        "\n",
        "\n",
        "r2 = 0\n",
        "for j in precision2:\n",
        "  r2 += j\n",
        "print(\"R^2:\")\n",
        "print(r2/9)"
      ],
      "metadata": {
        "colab": {
          "base_uri": "https://localhost:8080/"
        },
        "id": "Wrw7eElIPLcG",
        "outputId": "ca56bda0-bc27-4f5b-f3a7-3e434df0eb15"
      },
      "execution_count": null,
      "outputs": [
        {
          "output_type": "stream",
          "name": "stdout",
          "text": [
            "Media mse:\n",
            "0.7236941201153978\n",
            "R^2:\n",
            "0.4111583681017117\n"
          ]
        }
      ]
    }
  ]
}