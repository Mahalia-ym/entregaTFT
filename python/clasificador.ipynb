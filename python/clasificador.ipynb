{
  "nbformat": 4,
  "nbformat_minor": 0,
  "metadata": {
    "colab": {
      "provenance": [],
      "authorship_tag": "ABX9TyNdRl/jAdUeX018c0duTx8P",
      "include_colab_link": true
    },
    "kernelspec": {
      "name": "python3",
      "display_name": "Python 3"
    },
    "language_info": {
      "name": "python"
    }
  },
  "cells": [
    {
      "cell_type": "markdown",
      "metadata": {
        "id": "view-in-github",
        "colab_type": "text"
      },
      "source": [
        "<a href=\"https://colab.research.google.com/github/Mahalia-ym/entregaTFT/blob/main/python/clasificador.ipynb\" target=\"_parent\"><img src=\"https://colab.research.google.com/assets/colab-badge.svg\" alt=\"Open In Colab\"/></a>"
      ]
    },
    {
      "cell_type": "markdown",
      "source": [
        "Se importan las librerías necesarias para realizar la red neuronal\n"
      ],
      "metadata": {
        "id": "kdegQPEqo9-i"
      }
    },
    {
      "cell_type": "code",
      "execution_count": null,
      "metadata": {
        "id": "GPxc4q1Ku1SX"
      },
      "outputs": [],
      "source": [
        "import tensorflow as tf\n",
        "import numpy as np\n",
        "import pandas as pd\n",
        "import xgboost as xgb"
      ]
    },
    {
      "cell_type": "code",
      "source": [
        "from sklearn.model_selection import train_test_split\n",
        "from tensorflow.keras.models import Sequential\n",
        "from tensorflow.keras.layers import Dense\n",
        "from sklearn.metrics import r2_score\n",
        "from sklearn.metrics import mean_squared_error\n",
        "from sklearn.model_selection import KFold"
      ],
      "metadata": {
        "id": "-4DR3oqjyeKR"
      },
      "execution_count": null,
      "outputs": []
    },
    {
      "cell_type": "markdown",
      "source": [
        "Se da acceso al drive donde se encuentran los datos de los constructos que vamos a utilizar como input para la red neuronal"
      ],
      "metadata": {
        "id": "MlnQ4CRLpAg_"
      }
    },
    {
      "cell_type": "code",
      "source": [
        "from google.colab import drive\n",
        "drive.mount('/content/drive')"
      ],
      "metadata": {
        "colab": {
          "base_uri": "https://localhost:8080/"
        },
        "id": "OGJhK6QVx4Qz",
        "outputId": "3358a5d1-b04c-4e9c-8360-719e06ec8bf7"
      },
      "execution_count": null,
      "outputs": [
        {
          "output_type": "stream",
          "name": "stdout",
          "text": [
            "Mounted at /content/drive\n"
          ]
        }
      ]
    },
    {
      "cell_type": "markdown",
      "source": [
        "Aquí se cargan los valores de los constructos"
      ],
      "metadata": {
        "id": "YRLkawp_yyYf"
      }
    },
    {
      "cell_type": "code",
      "source": [
        "datosCompletos = pd.read_csv('/content/drive/My Drive/2º Semestre/TFT Nuevo/Red Neuronal/constructScores.csv', encoding='utf-8', sep=',', index_col=0)\n",
        "datosCompletos.sample(10)\n"
      ],
      "metadata": {
        "colab": {
          "base_uri": "https://localhost:8080/",
          "height": 363
        },
        "id": "WHSGvzSlx8P1",
        "outputId": "26402e35-3d5d-4443-a32f-295fba8e8f15"
      },
      "execution_count": null,
      "outputs": [
        {
          "output_type": "execute_result",
          "data": {
            "text/plain": [
              "     Mindfulness    Satisf  Performance   Abandon\n",
              "24     -0.489036 -0.772308    -0.317626  1.086994\n",
              "192     0.323871  0.896895    -0.799480 -0.501475\n",
              "122    -1.236202 -0.774597    -1.281334  1.100374\n",
              "112    -1.428787  0.387285     0.952107 -1.405734\n",
              "129    -1.236202  0.898040    -0.164128 -0.501475\n",
              "171     0.938309  0.551497    -0.935152 -0.294805\n",
              "140     2.091928  1.594658     1.587459 -1.405734\n",
              "63     -1.983367 -1.379759    -0.606796  1.784583\n",
              "18      0.895199  0.686660    -0.799480 -0.963742\n",
              "33     -2.787218  0.162742     1.280463  1.100374"
            ],
            "text/html": [
              "\n",
              "  <div id=\"df-9d4b549d-b2df-4fdc-8e62-995fe8d8e755\">\n",
              "    <div class=\"colab-df-container\">\n",
              "      <div>\n",
              "<style scoped>\n",
              "    .dataframe tbody tr th:only-of-type {\n",
              "        vertical-align: middle;\n",
              "    }\n",
              "\n",
              "    .dataframe tbody tr th {\n",
              "        vertical-align: top;\n",
              "    }\n",
              "\n",
              "    .dataframe thead th {\n",
              "        text-align: right;\n",
              "    }\n",
              "</style>\n",
              "<table border=\"1\" class=\"dataframe\">\n",
              "  <thead>\n",
              "    <tr style=\"text-align: right;\">\n",
              "      <th></th>\n",
              "      <th>Mindfulness</th>\n",
              "      <th>Satisf</th>\n",
              "      <th>Performance</th>\n",
              "      <th>Abandon</th>\n",
              "    </tr>\n",
              "  </thead>\n",
              "  <tbody>\n",
              "    <tr>\n",
              "      <th>24</th>\n",
              "      <td>-0.489036</td>\n",
              "      <td>-0.772308</td>\n",
              "      <td>-0.317626</td>\n",
              "      <td>1.086994</td>\n",
              "    </tr>\n",
              "    <tr>\n",
              "      <th>192</th>\n",
              "      <td>0.323871</td>\n",
              "      <td>0.896895</td>\n",
              "      <td>-0.799480</td>\n",
              "      <td>-0.501475</td>\n",
              "    </tr>\n",
              "    <tr>\n",
              "      <th>122</th>\n",
              "      <td>-1.236202</td>\n",
              "      <td>-0.774597</td>\n",
              "      <td>-1.281334</td>\n",
              "      <td>1.100374</td>\n",
              "    </tr>\n",
              "    <tr>\n",
              "      <th>112</th>\n",
              "      <td>-1.428787</td>\n",
              "      <td>0.387285</td>\n",
              "      <td>0.952107</td>\n",
              "      <td>-1.405734</td>\n",
              "    </tr>\n",
              "    <tr>\n",
              "      <th>129</th>\n",
              "      <td>-1.236202</td>\n",
              "      <td>0.898040</td>\n",
              "      <td>-0.164128</td>\n",
              "      <td>-0.501475</td>\n",
              "    </tr>\n",
              "    <tr>\n",
              "      <th>171</th>\n",
              "      <td>0.938309</td>\n",
              "      <td>0.551497</td>\n",
              "      <td>-0.935152</td>\n",
              "      <td>-0.294805</td>\n",
              "    </tr>\n",
              "    <tr>\n",
              "      <th>140</th>\n",
              "      <td>2.091928</td>\n",
              "      <td>1.594658</td>\n",
              "      <td>1.587459</td>\n",
              "      <td>-1.405734</td>\n",
              "    </tr>\n",
              "    <tr>\n",
              "      <th>63</th>\n",
              "      <td>-1.983367</td>\n",
              "      <td>-1.379759</td>\n",
              "      <td>-0.606796</td>\n",
              "      <td>1.784583</td>\n",
              "    </tr>\n",
              "    <tr>\n",
              "      <th>18</th>\n",
              "      <td>0.895199</td>\n",
              "      <td>0.686660</td>\n",
              "      <td>-0.799480</td>\n",
              "      <td>-0.963742</td>\n",
              "    </tr>\n",
              "    <tr>\n",
              "      <th>33</th>\n",
              "      <td>-2.787218</td>\n",
              "      <td>0.162742</td>\n",
              "      <td>1.280463</td>\n",
              "      <td>1.100374</td>\n",
              "    </tr>\n",
              "  </tbody>\n",
              "</table>\n",
              "</div>\n",
              "      <button class=\"colab-df-convert\" onclick=\"convertToInteractive('df-9d4b549d-b2df-4fdc-8e62-995fe8d8e755')\"\n",
              "              title=\"Convert this dataframe to an interactive table.\"\n",
              "              style=\"display:none;\">\n",
              "        \n",
              "  <svg xmlns=\"http://www.w3.org/2000/svg\" height=\"24px\"viewBox=\"0 0 24 24\"\n",
              "       width=\"24px\">\n",
              "    <path d=\"M0 0h24v24H0V0z\" fill=\"none\"/>\n",
              "    <path d=\"M18.56 5.44l.94 2.06.94-2.06 2.06-.94-2.06-.94-.94-2.06-.94 2.06-2.06.94zm-11 1L8.5 8.5l.94-2.06 2.06-.94-2.06-.94L8.5 2.5l-.94 2.06-2.06.94zm10 10l.94 2.06.94-2.06 2.06-.94-2.06-.94-.94-2.06-.94 2.06-2.06.94z\"/><path d=\"M17.41 7.96l-1.37-1.37c-.4-.4-.92-.59-1.43-.59-.52 0-1.04.2-1.43.59L10.3 9.45l-7.72 7.72c-.78.78-.78 2.05 0 2.83L4 21.41c.39.39.9.59 1.41.59.51 0 1.02-.2 1.41-.59l7.78-7.78 2.81-2.81c.8-.78.8-2.07 0-2.86zM5.41 20L4 18.59l7.72-7.72 1.47 1.35L5.41 20z\"/>\n",
              "  </svg>\n",
              "      </button>\n",
              "      \n",
              "  <style>\n",
              "    .colab-df-container {\n",
              "      display:flex;\n",
              "      flex-wrap:wrap;\n",
              "      gap: 12px;\n",
              "    }\n",
              "\n",
              "    .colab-df-convert {\n",
              "      background-color: #E8F0FE;\n",
              "      border: none;\n",
              "      border-radius: 50%;\n",
              "      cursor: pointer;\n",
              "      display: none;\n",
              "      fill: #1967D2;\n",
              "      height: 32px;\n",
              "      padding: 0 0 0 0;\n",
              "      width: 32px;\n",
              "    }\n",
              "\n",
              "    .colab-df-convert:hover {\n",
              "      background-color: #E2EBFA;\n",
              "      box-shadow: 0px 1px 2px rgba(60, 64, 67, 0.3), 0px 1px 3px 1px rgba(60, 64, 67, 0.15);\n",
              "      fill: #174EA6;\n",
              "    }\n",
              "\n",
              "    [theme=dark] .colab-df-convert {\n",
              "      background-color: #3B4455;\n",
              "      fill: #D2E3FC;\n",
              "    }\n",
              "\n",
              "    [theme=dark] .colab-df-convert:hover {\n",
              "      background-color: #434B5C;\n",
              "      box-shadow: 0px 1px 3px 1px rgba(0, 0, 0, 0.15);\n",
              "      filter: drop-shadow(0px 1px 2px rgba(0, 0, 0, 0.3));\n",
              "      fill: #FFFFFF;\n",
              "    }\n",
              "  </style>\n",
              "\n",
              "      <script>\n",
              "        const buttonEl =\n",
              "          document.querySelector('#df-9d4b549d-b2df-4fdc-8e62-995fe8d8e755 button.colab-df-convert');\n",
              "        buttonEl.style.display =\n",
              "          google.colab.kernel.accessAllowed ? 'block' : 'none';\n",
              "\n",
              "        async function convertToInteractive(key) {\n",
              "          const element = document.querySelector('#df-9d4b549d-b2df-4fdc-8e62-995fe8d8e755');\n",
              "          const dataTable =\n",
              "            await google.colab.kernel.invokeFunction('convertToInteractive',\n",
              "                                                     [key], {});\n",
              "          if (!dataTable) return;\n",
              "\n",
              "          const docLinkHtml = 'Like what you see? Visit the ' +\n",
              "            '<a target=\"_blank\" href=https://colab.research.google.com/notebooks/data_table.ipynb>data table notebook</a>'\n",
              "            + ' to learn more about interactive tables.';\n",
              "          element.innerHTML = '';\n",
              "          dataTable['output_type'] = 'display_data';\n",
              "          await google.colab.output.renderOutput(dataTable, element);\n",
              "          const docLink = document.createElement('div');\n",
              "          docLink.innerHTML = docLinkHtml;\n",
              "          element.appendChild(docLink);\n",
              "        }\n",
              "      </script>\n",
              "    </div>\n",
              "  </div>\n",
              "  "
            ]
          },
          "metadata": {},
          "execution_count": 4
        }
      ]
    },
    {
      "cell_type": "markdown",
      "source": [
        "Iniciamos el modelo con el clasificador elegido"
      ],
      "metadata": {
        "id": "2hms-AqapN8k"
      }
    },
    {
      "cell_type": "code",
      "source": [
        "modeloXGB = xgb.XGBRegressor(objective='reg:squarederror', colsamplebytree=0.5,\n",
        "                             learning_rate=0.1, max_depth=5, alpha=5, n_estimators=500)"
      ],
      "metadata": {
        "id": "wpJNi2oKAFVb"
      },
      "execution_count": null,
      "outputs": []
    },
    {
      "cell_type": "markdown",
      "source": [
        "Establecemos la mejor estructura neuronal del anterior programa"
      ],
      "metadata": {
        "id": "uVeTh6Dw-4dm"
      }
    },
    {
      "cell_type": "code",
      "source": [
        "modelo=Sequential()\n",
        "#Capa entrada\n",
        "modelo.add(Dense(3, activation='relu', input_shape=(3,)))\n",
        "#intermedias\n",
        "modelo.add(Dense(8, activation='relu'))\n",
        "modelo.add(Dense(3, activation='relu'))\n",
        "#salida\n",
        "modelo.add(Dense(1, activation='linear'))"
      ],
      "metadata": {
        "id": "gQYugs5azDJ4"
      },
      "execution_count": null,
      "outputs": []
    },
    {
      "cell_type": "code",
      "source": [
        "modelo.summary()"
      ],
      "metadata": {
        "colab": {
          "base_uri": "https://localhost:8080/"
        },
        "id": "JypU16YcEYEX",
        "outputId": "e0f0f9bd-7dea-4f70-d825-3b7fac41c62f"
      },
      "execution_count": null,
      "outputs": [
        {
          "output_type": "stream",
          "name": "stdout",
          "text": [
            "Model: \"sequential\"\n",
            "_________________________________________________________________\n",
            " Layer (type)                Output Shape              Param #   \n",
            "=================================================================\n",
            " dense (Dense)               (None, 3)                 12        \n",
            "                                                                 \n",
            " dense_1 (Dense)             (None, 8)                 32        \n",
            "                                                                 \n",
            " dense_2 (Dense)             (None, 3)                 27        \n",
            "                                                                 \n",
            " dense_3 (Dense)             (None, 1)                 4         \n",
            "                                                                 \n",
            "=================================================================\n",
            "Total params: 75\n",
            "Trainable params: 75\n",
            "Non-trainable params: 0\n",
            "_________________________________________________________________\n"
          ]
        }
      ]
    },
    {
      "cell_type": "markdown",
      "source": [
        "Establecemos dos variables las cuales sacarán los valores RMSE y R^2 de cada iteración según el mejor KFolder elgido anteriormente. Se ejecutará la predicción del modelo a través del clasificador para poder calcular las variables de medida."
      ],
      "metadata": {
        "id": "mxmmjeqvpte5"
      }
    },
    {
      "cell_type": "code",
      "source": [
        "precision = []\n",
        "precision2 = []\n",
        "calculate_kf = KFold(n_splits=7, shuffle=False)\n",
        "optimizador=tf.keras.optimizers.Adam(0.01)\n",
        "#modelo.compile(optimizer=optimizador, loss='mean_squared_error')\n",
        "resultado= []\n",
        "#Vamos a dividir los valores del kf\n",
        "for valEntreno, valPrueba in calculate_kf.split(datosCompletos):\n",
        "  entrenoX = datosCompletos.iloc[valEntreno].loc[:, [\"Mindfulness\", \"Satisf\", \"Performance\"]]\n",
        "  pruebaX = datosCompletos.iloc[valPrueba].loc[:, [\"Mindfulness\", \"Satisf\", \"Performance\"]]\n",
        "  entrenoY = datosCompletos.iloc[valEntreno].loc[:, [\"Abandon\"]]\n",
        "  pruebaY = datosCompletos.iloc[valPrueba].loc[:, [\"Abandon\"]]\n",
        "  modeloXGB.fit(entrenoX, entrenoY)\n",
        "  pred_y = modeloXGB.predict(pruebaX)\n",
        "  #resultado = pred_y\n",
        "  #print(\"mse\")\n",
        "  precision.append(mean_squared_error(pruebaY, pred_y, squared=False))\n",
        "  #print(precision)\n",
        "\n",
        "  #print(\"*********************\")\n",
        "  #print(\"R^2\")\n",
        "  precision2.append(r2_score(pruebaY, pred_y))\n",
        "  #print(precision2)\n",
        "\n",
        "print(\"mse\")\n",
        "print(precision)\n",
        "print(\"***********************\")\n",
        "print(\"R^2\")\n",
        "print(precision2)\n"
      ],
      "metadata": {
        "id": "B_9WpLapE4Nh"
      },
      "execution_count": null,
      "outputs": []
    },
    {
      "cell_type": "markdown",
      "source": [
        "Calculamos la media de las medidas RMSE y R^2"
      ],
      "metadata": {
        "id": "ilEVd9TnqH1b"
      }
    },
    {
      "cell_type": "code",
      "source": [
        "mse = 0\n",
        "for i in precision:\n",
        "  mse += i\n",
        "print(\"Media mse:\")\n",
        "print(mse/7)\n",
        "\n",
        "r2 = 0\n",
        "for j in precision2:\n",
        "  r2 += j\n",
        "print(\"R^2:\")\n",
        "print(r2/7)"
      ],
      "metadata": {
        "id": "Wrw7eElIPLcG"
      },
      "execution_count": null,
      "outputs": []
    }
  ]
}