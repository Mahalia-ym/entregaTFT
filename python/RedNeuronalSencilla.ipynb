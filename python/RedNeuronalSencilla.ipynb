{
  "nbformat": 4,
  "nbformat_minor": 0,
  "metadata": {
    "colab": {
      "provenance": [],
      "authorship_tag": "ABX9TyN6PHqlsVHM89DqhP4268Jg",
      "include_colab_link": true
    },
    "kernelspec": {
      "name": "python3",
      "display_name": "Python 3"
    },
    "language_info": {
      "name": "python"
    }
  },
  "cells": [
    {
      "cell_type": "markdown",
      "metadata": {
        "id": "view-in-github",
        "colab_type": "text"
      },
      "source": [
        "<a href=\"https://colab.research.google.com/github/Mahalia-ym/entregaTFT/blob/main/python/RedNeuronalSencilla.ipynb\" target=\"_parent\"><img src=\"https://colab.research.google.com/assets/colab-badge.svg\" alt=\"Open In Colab\"/></a>"
      ]
    },
    {
      "cell_type": "markdown",
      "source": [
        "Se importan las librerías necesarias para realizar la red neuronal"
      ],
      "metadata": {
        "id": "GkgGiaxFGdnm"
      }
    },
    {
      "cell_type": "code",
      "execution_count": null,
      "metadata": {
        "id": "3OUXb0m3Gs_0"
      },
      "outputs": [],
      "source": [
        "import tensorflow as tf\n",
        "import numpy as np\n",
        "import pandas as pd"
      ]
    },
    {
      "cell_type": "code",
      "source": [
        "from sklearn.model_selection import train_test_split\n",
        "from tensorflow.keras.models import Sequential\n",
        "from tensorflow.keras.layers import Dense\n",
        "from sklearn.metrics import r2_score\n",
        "from sklearn.metrics import mean_squared_error\n",
        "from sklearn.model_selection import KFold"
      ],
      "metadata": {
        "id": "s4LgjPxGJmZU"
      },
      "execution_count": null,
      "outputs": []
    },
    {
      "cell_type": "markdown",
      "source": [
        "Se da acceso al drive donde se encuentran los datos de los constructos que vamos a utilizar como input para la red neuronal"
      ],
      "metadata": {
        "id": "vLyXEUZIGjD1"
      }
    },
    {
      "cell_type": "code",
      "source": [
        "from google.colab import drive\n",
        "drive.mount('/content/drive')"
      ],
      "metadata": {
        "colab": {
          "base_uri": "https://localhost:8080/"
        },
        "id": "fuf4jFUpJoOi",
        "outputId": "e5fba547-8880-4e9f-ee2e-0467e888f4a9"
      },
      "execution_count": null,
      "outputs": [
        {
          "output_type": "stream",
          "name": "stdout",
          "text": [
            "Drive already mounted at /content/drive; to attempt to forcibly remount, call drive.mount(\"/content/drive\", force_remount=True).\n"
          ]
        }
      ]
    },
    {
      "cell_type": "markdown",
      "source": [
        "Aquí indicamos en datosCompletos los datos de los constructos para después dividirlos en X e Y. Donde en Y estará la variable Abandon ya que es nuestro objeto de estudio, mientras que en X están el resto de variables (Mindfulness, Job Satisfaction y Performance)"
      ],
      "metadata": {
        "id": "8RmuyylnGuG4"
      }
    },
    {
      "cell_type": "code",
      "source": [
        "datosCompletos = pd.read_csv('/content/drive/My Drive/2º Semestre/TFT Nuevo/Red Neuronal/constructScores.csv', encoding='utf-8', sep=',', index_col=0)\n",
        "datosCompletos.sample(10)\n",
        "x_valor = datosCompletos.iloc[:,0:3].loc[:, [\"Mindfulness\", \"Satisf\", \"Performance\"]]\n",
        "#print(x_valor)\n",
        "y_valor = datosCompletos.iloc[:,3:4].loc[:, [\"Abandon\"]]\n",
        "#print(y_valor)"
      ],
      "metadata": {
        "id": "0_ELGCKBJp5C"
      },
      "execution_count": null,
      "outputs": []
    },
    {
      "cell_type": "markdown",
      "source": [
        "En este paso se dividen los datos. En este caso se utilizará un 25% de los datos para realizar los test y un 75% para las pruebas"
      ],
      "metadata": {
        "id": "9D6aTr7lHNqW"
      }
    },
    {
      "cell_type": "code",
      "source": [
        "entrenoX, pruebaX, entrenoY, pruebaY = train_test_split(x_valor, y_valor, test_size=0.25)"
      ],
      "metadata": {
        "id": "9IhL3DoIK5Ql"
      },
      "execution_count": null,
      "outputs": []
    },
    {
      "cell_type": "markdown",
      "source": [
        "El siguiente paso es establecer la estructura de la neurona, por lo que se irán probando diferentes configuraciones para ver cuál es la mejor"
      ],
      "metadata": {
        "id": "KO4CgS7nS9Jc"
      }
    },
    {
      "cell_type": "code",
      "source": [
        "modelo=Sequential()\n",
        "#Capa entrada\n",
        "modelo.add(Dense(3, activation='relu', input_shape=(3,)))\n",
        "#intermedias\n",
        "modelo.add(Dense(4, activation='relu'))\n",
        "#modelo.add(Dense(3, activation='relu'))\n",
        "#salida\n",
        "modelo.add(Dense(1, activation='linear'))"
      ],
      "metadata": {
        "id": "lb9R7HHgKRrr"
      },
      "execution_count": null,
      "outputs": []
    },
    {
      "cell_type": "markdown",
      "source": [
        "En este apartado se crean dos variables para obtener las medidas de RMSE y R^2, de tal manera que compilamos el modelo con el optimizador ADAM, lo entrenamos y finalmente utilizamos el método predict para ir sacando cada una de las medidas indicadas anteriormente"
      ],
      "metadata": {
        "id": "8GcHRJoQHrJ5"
      }
    },
    {
      "cell_type": "code",
      "source": [
        "precision = []\n",
        "precision2 = []\n",
        "optimizador=tf.keras.optimizers.Adam(0.01)\n",
        "modelo.compile(optimizer=optimizador, loss='mean_squared_error')\n",
        "modelo.fit(entrenoX, entrenoY, epochs=150, batch_size=10, verbose=0)\n",
        "res_predict=modelo.predict(pruebaX)\n",
        "print(\"*****************************************\")\n",
        "#print(res_predict)\n",
        "precision.append(mean_squared_error(pruebaY, res_predict, squared=False))\n",
        "print(\"mse:\")\n",
        "print(precision)\n",
        "\n",
        "precision2.append(r2_score(pruebaY, res_predict))\n",
        "print(\"R^2:\")\n",
        "print(precision2)"
      ],
      "metadata": {
        "colab": {
          "base_uri": "https://localhost:8080/"
        },
        "id": "vO2mUFvEKT72",
        "outputId": "1c187bc3-4cb8-47f8-d6e9-ccdc7497904c"
      },
      "execution_count": null,
      "outputs": [
        {
          "output_type": "stream",
          "name": "stdout",
          "text": [
            "2/2 [==============================] - 0s 6ms/step\n",
            "*****************************************\n",
            "mse:\n",
            "[0.7682790528466743]\n",
            "R^2:\n",
            "[0.37209864960087646]\n"
          ]
        }
      ]
    }
  ]
}